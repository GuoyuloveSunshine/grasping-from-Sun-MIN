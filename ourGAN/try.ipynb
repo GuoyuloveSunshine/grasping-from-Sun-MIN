{
 "cells": [
  {
   "cell_type": "markdown",
   "id": "a7c4c762",
   "metadata": {},
   "source": [
    "# Graph Node"
   ]
  },
  {
   "cell_type": "code",
   "execution_count": null,
   "id": "c7e7a4f0",
   "metadata": {},
   "outputs": [],
   "source": [
    "import torch\n",
    "from torch import nn"
   ]
  },
  {
   "cell_type": "code",
   "execution_count": 7,
   "id": "a0996842",
   "metadata": {},
   "outputs": [],
   "source": [
    "layer = Node2NodeLayer(2, 5)"
   ]
  },
  {
   "cell_type": "code",
   "execution_count": 8,
   "id": "e5054c6a",
   "metadata": {},
   "outputs": [],
   "source": [
    "y = layer(x, adj_matrix, 'sum')"
   ]
  },
  {
   "cell_type": "code",
   "execution_count": 10,
   "id": "8bf01528",
   "metadata": {},
   "outputs": [],
   "source": [
    "# [1, 3, 2]\n",
    "\n",
    "x = torch.randn((1, 3, 3))\n",
    "e = torch.randn((1, 3, 1))\n",
    "\n",
    "adj_matrix = torch.Tensor([\n",
    "    [\n",
    "        [0., 1., 1.],\n",
    "        [0., 0., 0.],\n",
    "        [0., 0., 0.]\n",
    "    ]\n",
    "])"
   ]
  },
  {
   "cell_type": "code",
   "execution_count": 11,
   "id": "731ab138",
   "metadata": {},
   "outputs": [],
   "source": [
    "layer = Node2EdgeLayer(3, 1, 5)"
   ]
  },
  {
   "cell_type": "code",
   "execution_count": 12,
   "id": "cef1fc2c",
   "metadata": {},
   "outputs": [],
   "source": [
    "eps = layer(x, e, adj_matrix)"
   ]
  },
  {
   "cell_type": "code",
   "execution_count": 13,
   "id": "7b50fada",
   "metadata": {},
   "outputs": [
    {
     "data": {
      "text/plain": [
       "tensor([[[0.4753, 0.4541, 0.4873, 0.5478, 0.3932],\n",
       "         [0.3953, 0.6331, 0.4715, 0.3416, 0.2130],\n",
       "         [0.4423, 0.5090, 0.5684, 0.2750, 0.3456]]],\n",
       "       grad_fn=<SigmoidBackward0>)"
      ]
     },
     "execution_count": 13,
     "metadata": {},
     "output_type": "execute_result"
    }
   ],
   "source": [
    "eps"
   ]
  },
  {
   "cell_type": "code",
   "execution_count": null,
   "id": "48f1a532",
   "metadata": {},
   "outputs": [],
   "source": []
  },
  {
   "cell_type": "code",
   "execution_count": 17,
   "id": "df2072ac",
   "metadata": {},
   "outputs": [],
   "source": [
    "x = torch.randn((1, 3, 3))\n",
    "e = torch.randn((1, 3, 1))\n",
    "\n",
    "adj_matrix = torch.Tensor([\n",
    "    [\n",
    "        [0., 1., 1.],\n",
    "        [0., 0., 0.],\n",
    "        [0., 0., 0.]\n",
    "    ]\n",
    "])"
   ]
  },
  {
   "cell_type": "code",
   "execution_count": 18,
   "id": "bafb9639",
   "metadata": {},
   "outputs": [],
   "source": [
    "a_test = Edge2NodeLayer(1,3,6)"
   ]
  },
  {
   "cell_type": "code",
   "execution_count": 20,
   "id": "a08a033b",
   "metadata": {},
   "outputs": [
    {
     "data": {
      "text/plain": [
       "tensor([[[0.5343, 0.4041, 0.5649, 0.5820, 0.6596, 0.4498],\n",
       "         [0.4732, 0.6386, 0.7799, 0.5576, 0.6592, 0.4158],\n",
       "         [0.4907, 0.4598, 0.5973, 0.5634, 0.5139, 0.3807]]],\n",
       "       grad_fn=<SigmoidBackward0>)"
      ]
     },
     "execution_count": 20,
     "metadata": {},
     "output_type": "execute_result"
    }
   ],
   "source": [
    "y = a_test(x,e,adj_matrix)\n",
    "y"
   ]
  },
  {
   "cell_type": "markdown",
   "id": "83b61048",
   "metadata": {},
   "source": [
    "# Encoder-Decoder"
   ]
  },
  {
   "cell_type": "code",
   "execution_count": 2,
   "id": "2492dd00",
   "metadata": {},
   "outputs": [
    {
     "name": "stderr",
     "output_type": "stream",
     "text": [
      "d:\\anaconda3\\envs\\keraal\\lib\\site-packages\\tqdm\\auto.py:22: TqdmWarning: IProgress not found. Please update jupyter and ipywidgets. See https://ipywidgets.readthedocs.io/en/stable/user_install.html\n",
      "  from .autonotebook import tqdm as notebook_tqdm\n"
     ]
    }
   ],
   "source": [
    "from enc_and_dec import Encoder,Decoder\n",
    "from simple_GAN import Discriminator\n",
    "import option_parser\n",
    "import torch"
   ]
  },
  {
   "cell_type": "code",
   "execution_count": 3,
   "id": "a4787dde",
   "metadata": {
    "scrolled": true
   },
   "outputs": [],
   "source": [
    "parser = option_parser.get_parser()\n",
    "args, unknown = parser.parse_known_args()"
   ]
  },
  {
   "cell_type": "code",
   "execution_count": 4,
   "id": "e3add90f",
   "metadata": {},
   "outputs": [],
   "source": [
    "topo = (0, 0, 1, 2, 3, 0, 5, 6, 7, 0, 9, 10, 11, 12, 13, 12, 15, 16, 17, 12, 19, 20, 21)\n",
    "data = torch.rand((256, 64, 23, 3))\n",
    "offset = torch.rand((256, 64, 23, 1))"
   ]
  },
  {
   "cell_type": "code",
   "execution_count": 5,
   "id": "d57745a0",
   "metadata": {},
   "outputs": [
    {
     "ename": "RuntimeError",
     "evalue": "Sizes of tensors must match except in dimension 2. Expected size 3 but got size 1 for tensor number 1 in the list.",
     "output_type": "error",
     "traceback": [
      "\u001b[1;31m---------------------------------------------------------------------------\u001b[0m",
      "\u001b[1;31mRuntimeError\u001b[0m                              Traceback (most recent call last)",
      "\u001b[1;32m~\\AppData\\Local\\Temp\\ipykernel_13320\\3033763046.py\u001b[0m in \u001b[0;36m<module>\u001b[1;34m\u001b[0m\n\u001b[0;32m      2\u001b[0m \u001b[0menc\u001b[0m \u001b[1;33m=\u001b[0m \u001b[0mEncoder\u001b[0m\u001b[1;33m(\u001b[0m\u001b[0margs\u001b[0m\u001b[1;33m,\u001b[0m \u001b[0mtopo\u001b[0m\u001b[1;33m)\u001b[0m\u001b[1;33m\u001b[0m\u001b[1;33m\u001b[0m\u001b[0m\n\u001b[0;32m      3\u001b[0m \u001b[1;33m\u001b[0m\u001b[0m\n\u001b[1;32m----> 4\u001b[1;33m \u001b[0mz\u001b[0m \u001b[1;33m=\u001b[0m \u001b[0menc\u001b[0m\u001b[1;33m(\u001b[0m\u001b[0mdata\u001b[0m\u001b[1;33m,\u001b[0m \u001b[0moffset\u001b[0m\u001b[1;33m)\u001b[0m\u001b[1;33m\u001b[0m\u001b[1;33m\u001b[0m\u001b[0m\n\u001b[0m\u001b[0;32m      5\u001b[0m \u001b[0mprint\u001b[0m\u001b[1;33m(\u001b[0m\u001b[0mz\u001b[0m\u001b[1;33m.\u001b[0m\u001b[0mshape\u001b[0m\u001b[1;33m)\u001b[0m\u001b[1;33m\u001b[0m\u001b[1;33m\u001b[0m\u001b[0m\n\u001b[0;32m      6\u001b[0m \u001b[0mdec\u001b[0m \u001b[1;33m=\u001b[0m \u001b[0mDecoder\u001b[0m\u001b[1;33m(\u001b[0m\u001b[0margs\u001b[0m\u001b[1;33m,\u001b[0m\u001b[0mtopo\u001b[0m\u001b[1;33m)\u001b[0m\u001b[1;33m\u001b[0m\u001b[1;33m\u001b[0m\u001b[0m\n",
      "\u001b[1;32md:\\anaconda3\\envs\\keraal\\lib\\site-packages\\torch\\nn\\modules\\module.py\u001b[0m in \u001b[0;36m_call_impl\u001b[1;34m(self, *input, **kwargs)\u001b[0m\n\u001b[0;32m   1128\u001b[0m         if not (self._backward_hooks or self._forward_hooks or self._forward_pre_hooks or _global_backward_hooks\n\u001b[0;32m   1129\u001b[0m                 or _global_forward_hooks or _global_forward_pre_hooks):\n\u001b[1;32m-> 1130\u001b[1;33m             \u001b[1;32mreturn\u001b[0m \u001b[0mforward_call\u001b[0m\u001b[1;33m(\u001b[0m\u001b[1;33m*\u001b[0m\u001b[0minput\u001b[0m\u001b[1;33m,\u001b[0m \u001b[1;33m**\u001b[0m\u001b[0mkwargs\u001b[0m\u001b[1;33m)\u001b[0m\u001b[1;33m\u001b[0m\u001b[1;33m\u001b[0m\u001b[0m\n\u001b[0m\u001b[0;32m   1131\u001b[0m         \u001b[1;31m# Do not call functions when jit is used\u001b[0m\u001b[1;33m\u001b[0m\u001b[1;33m\u001b[0m\u001b[1;33m\u001b[0m\u001b[0m\n\u001b[0;32m   1132\u001b[0m         \u001b[0mfull_backward_hooks\u001b[0m\u001b[1;33m,\u001b[0m \u001b[0mnon_full_backward_hooks\u001b[0m \u001b[1;33m=\u001b[0m \u001b[1;33m[\u001b[0m\u001b[1;33m]\u001b[0m\u001b[1;33m,\u001b[0m \u001b[1;33m[\u001b[0m\u001b[1;33m]\u001b[0m\u001b[1;33m\u001b[0m\u001b[1;33m\u001b[0m\u001b[0m\n",
      "\u001b[1;32mg:\\Keraal_Stage\\ourGAN\\models\\enc_and_dec.py\u001b[0m in \u001b[0;36mforward\u001b[1;34m(self, input, offset)\u001b[0m\n\u001b[0;32m     57\u001b[0m         \u001b[1;32mfor\u001b[0m \u001b[0mi\u001b[0m\u001b[1;33m,\u001b[0m \u001b[0mlayer\u001b[0m \u001b[1;32min\u001b[0m \u001b[0menumerate\u001b[0m\u001b[1;33m(\u001b[0m\u001b[0mself\u001b[0m\u001b[1;33m.\u001b[0m\u001b[0mlayers\u001b[0m\u001b[1;33m)\u001b[0m\u001b[1;33m:\u001b[0m\u001b[1;33m\u001b[0m\u001b[1;33m\u001b[0m\u001b[0m\n\u001b[0;32m     58\u001b[0m             \u001b[1;32mif\u001b[0m \u001b[0mi\u001b[0m\u001b[1;33m%\u001b[0m\u001b[1;36m2\u001b[0m \u001b[1;33m==\u001b[0m\u001b[1;36m0\u001b[0m\u001b[1;33m:\u001b[0m\u001b[1;33m\u001b[0m\u001b[1;33m\u001b[0m\u001b[0m\n\u001b[1;32m---> 59\u001b[1;33m                 \u001b[0minput\u001b[0m \u001b[1;33m=\u001b[0m \u001b[0mtorch\u001b[0m\u001b[1;33m.\u001b[0m\u001b[0mconcat\u001b[0m\u001b[1;33m(\u001b[0m\u001b[1;33m[\u001b[0m\u001b[0minput\u001b[0m\u001b[1;33m,\u001b[0m \u001b[0moffset\u001b[0m\u001b[1;33m]\u001b[0m\u001b[1;33m,\u001b[0m \u001b[0mdim\u001b[0m \u001b[1;33m=\u001b[0m \u001b[1;36m2\u001b[0m\u001b[1;33m)\u001b[0m \u001b[1;31m# (batch_size, num_joint, xyz + length)\u001b[0m\u001b[1;33m\u001b[0m\u001b[1;33m\u001b[0m\u001b[0m\n\u001b[0m\u001b[0;32m     60\u001b[0m                 \u001b[0minput\u001b[0m \u001b[1;33m=\u001b[0m \u001b[0minput\u001b[0m\u001b[1;33m.\u001b[0m\u001b[0mpermute\u001b[0m\u001b[1;33m(\u001b[0m\u001b[1;36m1\u001b[0m\u001b[1;33m,\u001b[0m \u001b[1;36m2\u001b[0m\u001b[1;33m,\u001b[0m \u001b[1;36m0\u001b[0m\u001b[1;33m)\u001b[0m \u001b[1;31m# (num_joint, feature_size, batch_size)\u001b[0m\u001b[1;33m\u001b[0m\u001b[1;33m\u001b[0m\u001b[0m\n\u001b[0;32m     61\u001b[0m                 \u001b[0minput\u001b[0m \u001b[1;33m=\u001b[0m \u001b[0mlayer\u001b[0m\u001b[1;33m(\u001b[0m\u001b[0minput\u001b[0m\u001b[1;33m)\u001b[0m \u001b[1;31m# (num_joint, feature_size, batch_size/2)\u001b[0m\u001b[1;33m\u001b[0m\u001b[1;33m\u001b[0m\u001b[0m\n",
      "\u001b[1;31mRuntimeError\u001b[0m: Sizes of tensors must match except in dimension 2. Expected size 3 but got size 1 for tensor number 1 in the list."
     ]
    }
   ],
   "source": [
    "#test encoder, decoder\n",
    "enc = Encoder(args, topo)\n",
    "\n",
    "z = enc(data, offset)\n",
    "print(z.shape)\n",
    "dec = Decoder(args,topo)\n",
    "offset2 = torch.rand((8,23,1))\n",
    "reconstruct = dec(z, offset2)\n",
    "print(reconstruct.shape)"
   ]
  },
  {
   "cell_type": "code",
   "execution_count": 6,
   "id": "5a96d694",
   "metadata": {},
   "outputs": [],
   "source": [
    "dis = Discriminator(args,topo)\n",
    "data = torch.rand((64, 23, 3))\n",
    "offset = torch.rand((64, 23, 1))\n",
    "\n",
    "new_input = torch.concat([data,offset],dim = 2)\n",
    "res = dis(new_input)"
   ]
  },
  {
   "cell_type": "markdown",
   "id": "d6358126",
   "metadata": {},
   "source": [
    "# Network"
   ]
  },
  {
   "cell_type": "code",
   "execution_count": 1,
   "id": "da973a4e",
   "metadata": {},
   "outputs": [
    {
     "name": "stderr",
     "output_type": "stream",
     "text": [
      "d:\\anaconda3\\envs\\keraal\\lib\\site-packages\\tqdm\\auto.py:22: TqdmWarning: IProgress not found. Please update jupyter and ipywidgets. See https://ipywidgets.readthedocs.io/en/stable/user_install.html\n",
      "  from .autonotebook import tqdm as notebook_tqdm\n"
     ]
    },
    {
     "name": "stdout",
     "output_type": "stream",
     "text": [
      "load from file ./datasets/npy/Abe.npy\n",
      "Window count: 219, total frame: 10960\n",
      "load from file ./datasets/npy/Adam.npy\n",
      "Window count: 219, total frame: 10741\n",
      "load from file ./datasets/npy/Amy.npy\n",
      "Window count: 170, total frame: 8790\n",
      "170\n",
      "step: 0\n",
      "update\n",
      "update\n",
      "update\n",
      "step: 1\n",
      "update\n",
      "update\n",
      "update\n",
      "step: 2\n",
      "update\n",
      "update\n",
      "update\n",
      "step: 3\n",
      "update\n",
      "update\n",
      "update\n",
      "step: 4\n",
      "update\n",
      "update\n",
      "update\n",
      "step: 5\n",
      "update\n",
      "update\n",
      "update\n"
     ]
    }
   ],
   "source": [
    "from torch.utils.data.dataloader import DataLoader\n",
    "from data import create_dataset, get_character_names\n",
    "import option_parser\n",
    "from models.architecture import GAN_model\n",
    "import torch\n",
    "args = option_parser.get_args()\n",
    "characters = get_character_names(args)\n",
    "dataset = create_dataset(args, characters)\n",
    "print(len(dataset))\n",
    "data_loader = DataLoader(dataset, batch_size = args.batch_size, shuffle=True, num_workers=0)\n",
    "model = GAN_model(args, dataset)\n",
    "for step, motions in enumerate(data_loader):\n",
    "    print(\"step:\", step)\n",
    "    for motion in motions:\n",
    "        # print(idx.shape)   \n",
    "        model.set_input(motion)\n",
    "        model.optimize_parameters()"
   ]
  },
  {
   "cell_type": "code",
   "execution_count": 6,
   "id": "35d9fe0f",
   "metadata": {},
   "outputs": [
    {
     "name": "stdout",
     "output_type": "stream",
     "text": [
      "torch.Size([1, 23, 1])\n"
     ]
    }
   ],
   "source": [
    "a = torch.rand(23).unsqueeze(-1).unsqueeze(0)\n",
    "print(a.shape)"
   ]
  },
  {
   "cell_type": "code",
   "execution_count": 3,
   "id": "60f142ae",
   "metadata": {},
   "outputs": [
    {
     "name": "stdout",
     "output_type": "stream",
     "text": [
      "torch.Size([128, 64, 23, 2])\n"
     ]
    }
   ],
   "source": [
    "import torch.nn as nn\n",
    "m = nn.Linear(3, 2)\n",
    "input = torch.randn(128, 64, 23, 3)\n",
    "output = m(input)\n",
    "print(output.size())"
   ]
  },
  {
   "cell_type": "code",
   "execution_count": 1,
   "id": "36d032a5",
   "metadata": {},
   "outputs": [
    {
     "name": "stderr",
     "output_type": "stream",
     "text": [
      "d:\\anaconda3\\envs\\keraal\\lib\\site-packages\\tqdm\\auto.py:22: TqdmWarning: IProgress not found. Please update jupyter and ipywidgets. See https://ipywidgets.readthedocs.io/en/stable/user_install.html\n",
      "  from .autonotebook import tqdm as notebook_tqdm\n"
     ]
    }
   ],
   "source": [
    "from models.skeleton_gnn import Node2NodeLayer, Node2EdgeLayer, Edge2NodeLayer\n",
    "import torch\n",
    "def calculate_adj_matrix(topology):\n",
    "    adj = torch.zeros(len(topology), len(topology))\n",
    "    for i,j in enumerate(topology):\n",
    "        if i == 0: #the root not in\n",
    "            continue\n",
    "        adj[j,i] = 1\n",
    "    return adj\n",
    "\n",
    "topo111 = [0, 0, 1, 2, 3, 0, 5, 6, 7, 0, 9, 10, 11, 12, 13, 12, 15, 16, 17, 12, 19, 20, 21]\n",
    "input_node = torch.rand((128, 32, 23, 3))\n",
    "input_edge = torch.rand((128, 32, 23, 1))\n",
    "batch_size = 128\n",
    "frame = 32\n",
    "length = 23\n",
    "adj = calculate_adj_matrix(topo111)\n",
    "adj_matrix = torch.cat(batch_size*frame*[adj]).reshape((batch_size, frame, length, length))\n",
    "layer2 = Edge2NodeLayer(1,3,3)\n",
    "output = layer2(input_node, input_edge, adj_matrix)\n"
   ]
  },
  {
   "cell_type": "code",
   "execution_count": 2,
   "id": "203ee115",
   "metadata": {},
   "outputs": [
    {
     "data": {
      "text/plain": [
       "torch.Size([128, 32, 23, 3])"
      ]
     },
     "execution_count": 2,
     "metadata": {},
     "output_type": "execute_result"
    }
   ],
   "source": [
    "output.shape"
   ]
  }
 ],
 "metadata": {
  "kernelspec": {
   "display_name": "Python 3 (ipykernel)",
   "language": "python",
   "name": "python3"
  },
  "language_info": {
   "codemirror_mode": {
    "name": "ipython",
    "version": 3
   },
   "file_extension": ".py",
   "mimetype": "text/x-python",
   "name": "python",
   "nbconvert_exporter": "python",
   "pygments_lexer": "ipython3",
   "version": "3.7.13"
  },
  "vscode": {
   "interpreter": {
    "hash": "977db75128c3fed9f37c471b73bfa9a12015086b1f9f641de779e86f13efb9a2"
   }
  }
 },
 "nbformat": 4,
 "nbformat_minor": 5
}
