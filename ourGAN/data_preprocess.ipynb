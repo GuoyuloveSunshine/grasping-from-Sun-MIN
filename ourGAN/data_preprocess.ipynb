{
 "cells": [
  {
   "cell_type": "markdown",
   "id": "555b1165",
   "metadata": {},
   "source": [
    "# Test MotionData "
   ]
  },
  {
   "cell_type": "code",
   "execution_count": 23,
   "id": "d185ce87",
   "metadata": {},
   "outputs": [],
   "source": [
    "from option_parser import get_parser\n",
    "from data.motion_dataset import MotionData\n",
    "import os\n",
    "import torch"
   ]
  },
  {
   "cell_type": "code",
   "execution_count": 14,
   "id": "70f0bd24",
   "metadata": {},
   "outputs": [],
   "source": [
    "parser = get_parser()\n",
    "args, unknown = parser.parse_known_args()"
   ]
  },
  {
   "cell_type": "code",
   "execution_count": 16,
   "id": "dc03385b",
   "metadata": {},
   "outputs": [
    {
     "name": "stdout",
     "output_type": "stream",
     "text": [
      "['Abe', 'Adam', 'Amy', 'Astra', 'Crypto', 'David', 'Dummy', 'Erika Archer', 'Jackie', 'James', 'Jennifer', 'Josh', 'Kate', 'Knight D Pelegrini', 'Louise', 'Martha', 'Medea By M', 'Ninja', 'Olivia', 'Prisoner B', 'Racer', 'Remy', 'Steve', 'Suzie', 'Y bot']\n"
     ]
    }
   ],
   "source": [
    "prefix = './datasets/npy'\n",
    "characters = [f.split('.')[0] for f in os.listdir(prefix)]\n",
    "print(characters)\n",
    "args.dataset = characters[0]"
   ]
  },
  {
   "cell_type": "code",
   "execution_count": 32,
   "id": "70729284",
   "metadata": {},
   "outputs": [
    {
     "name": "stdout",
     "output_type": "stream",
     "text": [
      "load from file ./datasets/npy/Abe.npy\n",
      "new_window:  torch.Size([231, 64, 23, 3])\n",
      "torch.Size([231, 64, 23, 3])\n",
      "Window count: 219, total frame: 10960\n",
      "torch.Size([219, 64, 23, 3])\n",
      "torch.Size([1, 64, 1, 3])\n"
     ]
    }
   ],
   "source": [
    "motion = MotionData(args)\n",
    "# print(motion.data)\n",
    "# motions = np.load(os.path.join(prefix,characters[0]+'.npy'), allow_pickle=True)\n",
    "# print(motions)"
   ]
  },
  {
   "cell_type": "code",
   "execution_count": 35,
   "id": "7ec4cc60",
   "metadata": {},
   "outputs": [
    {
     "name": "stdout",
     "output_type": "stream",
     "text": [
      "torch.Size([219, 64, 23, 3])\n",
      "torch.Size([1, 64, 1, 3])\n"
     ]
    }
   ],
   "source": [
    "print(motion.data.shape)\n",
    "mean = torch.mean(motion.data, (0, 2), keepdim=True)\n",
    "print(mean.shape)"
   ]
  },
  {
   "cell_type": "code",
   "execution_count": 1,
   "id": "cbf14364",
   "metadata": {},
   "outputs": [],
   "source": [
    "# for name in characters:\n",
    "#     file_path = '../datasets/npy/{}.npy'.format(name)\n",
    "#     print('load from file {}'.format(file_path))\n",
    "#     motions = np.load(file_path, allow_pickle=True)\n",
    "#     motion = list(motions)\n",
    "#     # print(len(motions))\n",
    "#     count = 0\n",
    "#     for i in motions:\n",
    "#         if i.shape[0] > 64:\n",
    "#             count +=1\n",
    "#         print(name, i.shape)\n",
    "#     print(name, count)"
   ]
  },
  {
   "cell_type": "markdown",
   "id": "188adc23",
   "metadata": {},
   "source": [
    "# Test dataset"
   ]
  },
  {
   "cell_type": "code",
   "execution_count": 2,
   "id": "2006b422",
   "metadata": {},
   "outputs": [
    {
     "name": "stderr",
     "output_type": "stream",
     "text": [
      "d:\\anaconda3\\envs\\keraal\\lib\\site-packages\\tqdm\\auto.py:22: TqdmWarning: IProgress not found. Please update jupyter and ipywidgets. See https://ipywidgets.readthedocs.io/en/stable/user_install.html\n",
      "  from .autonotebook import tqdm as notebook_tqdm\n"
     ]
    }
   ],
   "source": [
    "from data.combined_motion import MixedData\n",
    "from option_parser import get_parser\n",
    "import os\n",
    "import numpy as np\n",
    "from data.bvh_parser import BVH_file"
   ]
  },
  {
   "cell_type": "code",
   "execution_count": 3,
   "id": "ce5f7d08",
   "metadata": {},
   "outputs": [
    {
     "name": "stdout",
     "output_type": "stream",
     "text": [
      "Namespace(batch_size=64, cuda_device='cuda:0', data_augment=1, debug=0, gan_mode='lsgan', is_train=1, lambda_cycle=5, lambda_rec=5, learning_rate=0.0002, offset_feature=1, pool_size=50, position_feature=3, save_dir='./pretrained', window_size=64)\n"
     ]
    }
   ],
   "source": [
    "parser = get_parser()\n",
    "args, unknown = parser.parse_known_args()\n",
    "print(args)"
   ]
  },
  {
   "cell_type": "code",
   "execution_count": 4,
   "id": "e02fa551",
   "metadata": {},
   "outputs": [
    {
     "name": "stdout",
     "output_type": "stream",
     "text": [
      "['Abe', 'Adam', 'Amy', 'Astra', 'Crypto', 'David', 'Dummy', 'Erika Archer', 'Jackie', 'James', 'Jennifer', 'Josh', 'Kate', 'Knight D Pelegrini', 'Louise', 'Martha', 'Medea By M', 'Ninja', 'Olivia', 'Prisoner B', 'Racer', 'Remy', 'Steve', 'Suzie', 'Y bot']\n"
     ]
    }
   ],
   "source": [
    "prefix = './datasets/npy'\n",
    "characters = [f.split('.')[0] for f in os.listdir(prefix)]\n",
    "print(characters)\n",
    "# characters = characters[:3]\n",
    "# print(characters)"
   ]
  },
  {
   "cell_type": "code",
   "execution_count": 6,
   "id": "a025016b",
   "metadata": {},
   "outputs": [
    {
     "name": "stdout",
     "output_type": "stream",
     "text": [
      "file path:./datasets/offsets/Abe.bvh, skeleton type: 1\n"
     ]
    }
   ],
   "source": [
    "afile = BVH_file('./datasets/offsets/Abe.bvh')"
   ]
  },
  {
   "cell_type": "code",
   "execution_count": 7,
   "id": "e065702f",
   "metadata": {},
   "outputs": [
    {
     "name": "stdout",
     "output_type": "stream",
     "text": [
      "load from file ./datasets/npy/Abe.npy\n",
      "new_window:  torch.Size([231, 64, 23, 3])\n",
      "torch.Size([231, 64, 23, 3])\n",
      "Window count: 219, total frame: 10960\n",
      "file path:./datasets/offsets/Abe.bvh, skeleton type: 1\n",
      "load from file ./datasets/npy/Adam.npy\n",
      "new_window:  torch.Size([231, 64, 23, 3])\n",
      "torch.Size([231, 64, 23, 3])\n",
      "Window count: 219, total frame: 10741\n",
      "file path:./datasets/offsets/Adam.bvh, skeleton type: 1\n",
      "load from file ./datasets/npy/Amy.npy\n",
      "new_window:  torch.Size([179, 64, 23, 3])\n",
      "torch.Size([179, 64, 23, 3])\n",
      "Window count: 170, total frame: 8790\n",
      "file path:./datasets/offsets/Amy.bvh, skeleton type: 1\n",
      "load from file ./datasets/npy/Astra.npy\n",
      "new_window:  torch.Size([260, 64, 23, 3])\n",
      "torch.Size([260, 64, 23, 3])\n",
      "Window count: 247, total frame: 11989\n",
      "file path:./datasets/offsets/Astra.bvh, skeleton type: 1\n",
      "load from file ./datasets/npy/Crypto.npy\n",
      "new_window:  torch.Size([217, 64, 23, 3])\n",
      "torch.Size([217, 64, 23, 3])\n",
      "Window count: 206, total frame: 10453\n",
      "file path:./datasets/offsets/Crypto.bvh, skeleton type: 1\n",
      "load from file ./datasets/npy/David.npy\n",
      "new_window:  torch.Size([171, 64, 23, 3])\n",
      "torch.Size([171, 64, 23, 3])\n",
      "Window count: 162, total frame: 7954\n",
      "file path:./datasets/offsets/David.bvh, skeleton type: 1\n",
      "load from file ./datasets/npy/Dummy.npy\n",
      "new_window:  torch.Size([139, 64, 23, 3])\n",
      "torch.Size([139, 64, 23, 3])\n",
      "Window count: 132, total frame: 7256\n",
      "file path:./datasets/offsets/Dummy.bvh, skeleton type: 1\n",
      "load from file ./datasets/npy/Erika Archer.npy\n",
      "new_window:  torch.Size([278, 64, 23, 3])\n",
      "torch.Size([278, 64, 23, 3])\n",
      "Window count: 264, total frame: 12599\n",
      "file path:./datasets/offsets/Erika Archer.bvh, skeleton type: 1\n",
      "load from file ./datasets/npy/Jackie.npy\n",
      "new_window:  torch.Size([280, 64, 23, 3])\n",
      "torch.Size([280, 64, 23, 3])\n",
      "Window count: 266, total frame: 12453\n",
      "file path:./datasets/offsets/Jackie.bvh, skeleton type: 1\n",
      "load from file ./datasets/npy/James.npy\n",
      "new_window:  torch.Size([209, 64, 23, 3])\n",
      "torch.Size([209, 64, 23, 3])\n",
      "Window count: 198, total frame: 9913\n",
      "file path:./datasets/offsets/James.bvh, skeleton type: 1\n",
      "load from file ./datasets/npy/Jennifer.npy\n",
      "new_window:  torch.Size([136, 64, 23, 3])\n",
      "torch.Size([136, 64, 23, 3])\n",
      "Window count: 129, total frame: 7077\n",
      "file path:./datasets/offsets/Jennifer.bvh, skeleton type: 1\n",
      "load from file ./datasets/npy/Josh.npy\n",
      "new_window:  torch.Size([137, 64, 23, 3])\n",
      "torch.Size([137, 64, 23, 3])\n",
      "Window count: 130, total frame: 7130\n",
      "file path:./datasets/offsets/Josh.bvh, skeleton type: 1\n",
      "load from file ./datasets/npy/Kate.npy\n",
      "new_window:  torch.Size([182, 64, 23, 3])\n",
      "torch.Size([182, 64, 23, 3])\n",
      "Window count: 172, total frame: 9190\n",
      "file path:./datasets/offsets/Kate.bvh, skeleton type: 1\n",
      "load from file ./datasets/npy/Knight D Pelegrini.npy\n",
      "new_window:  torch.Size([200, 64, 23, 3])\n",
      "torch.Size([200, 64, 23, 3])\n",
      "Window count: 190, total frame: 9835\n",
      "file path:./datasets/offsets/Knight D Pelegrini.bvh, skeleton type: 1\n",
      "load from file ./datasets/npy/Louise.npy\n",
      "new_window:  torch.Size([171, 64, 23, 3])\n",
      "torch.Size([171, 64, 23, 3])\n",
      "Window count: 162, total frame: 8869\n",
      "file path:./datasets/offsets/Louise.bvh, skeleton type: 1\n",
      "load from file ./datasets/npy/Martha.npy\n",
      "new_window:  torch.Size([242, 64, 23, 3])\n",
      "torch.Size([242, 64, 23, 3])\n",
      "Window count: 229, total frame: 11053\n",
      "file path:./datasets/offsets/Martha.bvh, skeleton type: 1\n",
      "load from file ./datasets/npy/Medea By M.npy\n",
      "new_window:  torch.Size([175, 64, 23, 3])\n",
      "torch.Size([175, 64, 23, 3])\n",
      "Window count: 166, total frame: 8869\n",
      "file path:./datasets/offsets/Medea By M.bvh, skeleton type: 1\n",
      "load from file ./datasets/npy/Ninja.npy\n",
      "new_window:  torch.Size([260, 64, 23, 3])\n",
      "torch.Size([260, 64, 23, 3])\n",
      "Window count: 247, total frame: 11398\n",
      "file path:./datasets/offsets/Ninja.bvh, skeleton type: 1\n",
      "load from file ./datasets/npy/Olivia.npy\n",
      "new_window:  torch.Size([242, 64, 23, 3])\n",
      "torch.Size([242, 64, 23, 3])\n",
      "Window count: 229, total frame: 11062\n",
      "file path:./datasets/offsets/Olivia.bvh, skeleton type: 1\n",
      "load from file ./datasets/npy/Prisoner B.npy\n",
      "new_window:  torch.Size([292, 64, 23, 3])\n",
      "torch.Size([292, 64, 23, 3])\n",
      "Window count: 277, total frame: 13146\n",
      "file path:./datasets/offsets/Prisoner B.bvh, skeleton type: 1\n",
      "load from file ./datasets/npy/Racer.npy\n",
      "new_window:  torch.Size([223, 64, 23, 3])\n",
      "torch.Size([223, 64, 23, 3])\n",
      "Window count: 211, total frame: 10585\n",
      "file path:./datasets/offsets/Racer.bvh, skeleton type: 1\n",
      "load from file ./datasets/npy/Remy.npy\n",
      "new_window:  torch.Size([258, 64, 23, 3])\n",
      "torch.Size([258, 64, 23, 3])\n",
      "Window count: 245, total frame: 11642\n",
      "file path:./datasets/offsets/Remy.bvh, skeleton type: 1\n",
      "load from file ./datasets/npy/Steve.npy\n",
      "new_window:  torch.Size([246, 64, 23, 3])\n",
      "torch.Size([246, 64, 23, 3])\n",
      "Window count: 233, total frame: 11211\n",
      "file path:./datasets/offsets/Steve.bvh, skeleton type: 1\n",
      "load from file ./datasets/npy/Suzie.npy\n",
      "new_window:  torch.Size([191, 64, 23, 3])\n",
      "torch.Size([191, 64, 23, 3])\n",
      "Window count: 181, total frame: 9457\n",
      "file path:./datasets/offsets/Suzie.bvh, skeleton type: 1\n",
      "load from file ./datasets/npy/Y bot.npy\n",
      "new_window:  torch.Size([221, 64, 23, 3])\n",
      "torch.Size([221, 64, 23, 3])\n",
      "Window count: 209, total frame: 10581\n",
      "file path:./datasets/offsets/Y bot.bvh, skeleton type: 1\n"
     ]
    }
   ],
   "source": [
    "dataset = MixedData(args,characters)"
   ]
  },
  {
   "cell_type": "code",
   "execution_count": 6,
   "id": "4e7e8158",
   "metadata": {},
   "outputs": [
    {
     "name": "stdout",
     "output_type": "stream",
     "text": [
      "5093\n"
     ]
    }
   ],
   "source": [
    "print(len(dataset))"
   ]
  },
  {
   "cell_type": "code",
   "execution_count": 8,
   "id": "623de7c6",
   "metadata": {},
   "outputs": [
    {
     "name": "stdout",
     "output_type": "stream",
     "text": [
      "[(-1, 0, 1, 2, 3, 0, 5, 6, 7, 0, 9, 10, 11, 12, 13, 11, 15, 16, 17, 11, 19, 20, 21), (-1, 0, 1, 2, 3, 0, 5, 6, 7, 0, 9, 10, 11, 12, 13, 11, 15, 16, 17, 11, 19, 20, 21), (-1, 0, 1, 2, 3, 0, 5, 6, 7, 0, 9, 10, 11, 12, 13, 11, 15, 16, 17, 11, 19, 20, 21), (-1, 0, 1, 2, 3, 0, 5, 6, 7, 0, 9, 10, 11, 12, 13, 11, 15, 16, 17, 11, 19, 20, 21), (-1, 0, 1, 2, 3, 0, 5, 6, 7, 0, 9, 10, 11, 12, 13, 11, 15, 16, 17, 11, 19, 20, 21), (-1, 0, 1, 2, 3, 0, 5, 6, 7, 0, 9, 10, 11, 12, 13, 11, 15, 16, 17, 11, 19, 20, 21), (-1, 0, 1, 2, 3, 0, 5, 6, 7, 0, 9, 10, 11, 12, 13, 11, 15, 16, 17, 11, 19, 20, 21), (-1, 0, 1, 2, 3, 0, 5, 6, 7, 0, 9, 10, 11, 12, 13, 11, 15, 16, 17, 11, 19, 20, 21), (-1, 0, 1, 2, 3, 0, 5, 6, 7, 0, 9, 10, 11, 12, 13, 11, 15, 16, 17, 11, 19, 20, 21), (-1, 0, 1, 2, 3, 0, 5, 6, 7, 0, 9, 10, 11, 12, 13, 11, 15, 16, 17, 11, 19, 20, 21), (-1, 0, 1, 2, 3, 0, 5, 6, 7, 0, 9, 10, 11, 12, 13, 11, 15, 16, 17, 11, 19, 20, 21), (-1, 0, 1, 2, 3, 0, 5, 6, 7, 0, 9, 10, 11, 12, 13, 11, 15, 16, 17, 11, 19, 20, 21), (-1, 0, 1, 2, 3, 0, 5, 6, 7, 0, 9, 10, 11, 12, 13, 11, 15, 16, 17, 11, 19, 20, 21), (-1, 0, 1, 2, 3, 0, 5, 6, 7, 0, 9, 10, 11, 12, 13, 11, 15, 16, 17, 11, 19, 20, 21), (-1, 0, 1, 2, 3, 0, 5, 6, 7, 0, 9, 10, 11, 12, 13, 11, 15, 16, 17, 11, 19, 20, 21), (-1, 0, 1, 2, 3, 0, 5, 6, 7, 0, 9, 10, 11, 12, 13, 11, 15, 16, 17, 11, 19, 20, 21), (-1, 0, 1, 2, 3, 0, 5, 6, 7, 0, 9, 10, 11, 12, 13, 11, 15, 16, 17, 11, 19, 20, 21), (-1, 0, 1, 2, 3, 0, 5, 6, 7, 0, 9, 10, 11, 12, 13, 11, 15, 16, 17, 11, 19, 20, 21), (-1, 0, 1, 2, 3, 0, 5, 6, 7, 0, 9, 10, 11, 12, 13, 11, 15, 16, 17, 11, 19, 20, 21), (-1, 0, 1, 2, 3, 0, 5, 6, 7, 0, 9, 10, 11, 12, 13, 11, 15, 16, 17, 11, 19, 20, 21), (-1, 0, 1, 2, 3, 0, 5, 6, 7, 0, 9, 10, 11, 12, 13, 11, 15, 16, 17, 11, 19, 20, 21), (-1, 0, 1, 2, 3, 0, 5, 6, 7, 0, 9, 10, 11, 12, 13, 11, 15, 16, 17, 11, 19, 20, 21), (-1, 0, 1, 2, 3, 0, 5, 6, 7, 0, 9, 10, 11, 12, 13, 11, 15, 16, 17, 11, 19, 20, 21), (-1, 0, 1, 2, 3, 0, 5, 6, 7, 0, 9, 10, 11, 12, 13, 11, 15, 16, 17, 11, 19, 20, 21), (-1, 0, 1, 2, 3, 0, 5, 6, 7, 0, 9, 10, 11, 12, 13, 11, 15, 16, 17, 11, 19, 20, 21)]\n"
     ]
    }
   ],
   "source": [
    "print(dataset.joint_topologies)"
   ]
  }
 ],
 "metadata": {
  "kernelspec": {
   "display_name": "Python 3 (ipykernel)",
   "language": "python",
   "name": "python3"
  },
  "language_info": {
   "codemirror_mode": {
    "name": "ipython",
    "version": 3
   },
   "file_extension": ".py",
   "mimetype": "text/x-python",
   "name": "python",
   "nbconvert_exporter": "python",
   "pygments_lexer": "ipython3",
   "version": "3.7.13"
  },
  "vscode": {
   "interpreter": {
    "hash": "977db75128c3fed9f37c471b73bfa9a12015086b1f9f641de779e86f13efb9a2"
   }
  }
 },
 "nbformat": 4,
 "nbformat_minor": 5
}
